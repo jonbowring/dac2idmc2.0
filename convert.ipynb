{
 "cells": [
  {
   "cell_type": "code",
   "execution_count": 199,
   "metadata": {},
   "outputs": [],
   "source": [
    "import pandas as pd\n",
    "import numpy as np\n",
    "import json\n",
    "import os\n",
    "import urllib3\n",
    "import csv\n",
    "import logging\n",
    "import re\n",
    "import uuid\n",
    "from urllib.parse import quote\n",
    "from lxml import etree\n",
    "from utils import dac2idmc"
   ]
  },
  {
   "cell_type": "markdown",
   "metadata": {},
   "source": [
    "# Initialise the job"
   ]
  },
  {
   "cell_type": "code",
   "execution_count": 200,
   "metadata": {},
   "outputs": [],
   "source": [
    "# Initialise the log file\n",
    "logging.basicConfig(\n",
    "    filename='logs/console.log',\n",
    "    level=logging.DEBUG,\n",
    "    format='%(asctime)s:%(levelname)s:%(message)s',\n",
    ")"
   ]
  },
  {
   "cell_type": "code",
   "execution_count": 201,
   "metadata": {},
   "outputs": [],
   "source": [
    "# Read the config file\n",
    "logging.info('Reading the config file')\n",
    "with open('config/config.json', 'r') as infile:\n",
    "    config = json.load(infile)\n"
   ]
  },
  {
   "cell_type": "code",
   "execution_count": 202,
   "metadata": {},
   "outputs": [],
   "source": [
    "# Define the namespace map\n",
    "namespaces = {\n",
    "    'aetgt': 'http://schemas.active-endpoints.com/appmodules/repository/2010/10/avrepository.xsd',\n",
    "    'types1': 'http://schemas.active-endpoints.com/appmodules/repository/2010/10/avrepository.xsd'\n",
    "}\n",
    "\n",
    "# Parse the template Taskflow\n",
    "tree = etree.parse('templates/tf_Base_Taskflow.TASKFLOW.xml')\n",
    "root = tree.getroot()"
   ]
  },
  {
   "cell_type": "markdown",
   "metadata": {},
   "source": [
    "# Read the Inputs"
   ]
  },
  {
   "cell_type": "code",
   "execution_count": 203,
   "metadata": {},
   "outputs": [],
   "source": [
    "# Read the execution plans\n",
    "logging.info('Reading the execution plans')\n",
    "dfPlans = pd.read_csv('in/plans.csv', dtype='str', encoding='utf-8', na_filter=False)\n",
    "dfPlans['plan_step_order'] = dfPlans['plan_step_order'].astype(int)"
   ]
  },
  {
   "cell_type": "markdown",
   "metadata": {},
   "source": [
    "# Lookup the Converted Mapping Task IDs"
   ]
  },
  {
   "cell_type": "code",
   "execution_count": 204,
   "metadata": {},
   "outputs": [],
   "source": [
    "# Login to IDMC\n",
    "logging.info('Logging into IDMC')\n",
    "http = urllib3.PoolManager()\n",
    "\n",
    "data = '{ \"username\": \"' + config['idmc']['user'] + '\", \"password\": \"' + config['idmc']['password'] + '\" }'\n",
    "\n",
    "url = 'https://' + config['idmc']['host'] + '/saas/public/core/v3/login'\n",
    "r = http.request(\n",
    "    'POST', \n",
    "    url,\n",
    "    timeout=3000,\n",
    "    body=data,\n",
    "    headers={\n",
    "            'Accept': 'application/json',\n",
    "            'Content-Type': 'application/json'\n",
    "        }\n",
    "    )\n",
    "    \n",
    "# Convert the response into a datframe\n",
    "result = json.loads(r.data.decode('utf-8'))\n",
    "sessionID = result['userInfo']['sessionId']\n"
   ]
  },
  {
   "cell_type": "code",
   "execution_count": 205,
   "metadata": {},
   "outputs": [],
   "source": [
    "# Get the secure agent ID\n",
    "logging.info('Getting the secure agent ID')\n",
    "url = 'https://' + config['idmc']['pod'] + '.' + config['idmc']['host'] + '/saas/api/v2/runtimeEnvironment/name/' + quote(config['idmc']['agentGroupName'])\n",
    "r = http.request(\n",
    "    'GET', \n",
    "    url,\n",
    "    timeout=3000,\n",
    "    headers={\n",
    "            'Accept': 'application/json',\n",
    "            'icSessionId': sessionID\n",
    "        }\n",
    "    )\n",
    "    \n",
    "# Convert the response into a datframe\n",
    "result = json.loads(r.data.decode('utf-8'))\n",
    "agentGroupID = result['id']\n",
    "agentGroupGUID = result['federatedId']\n",
    "agentGroupName = config['idmc']['agentGroupName']"
   ]
  },
  {
   "cell_type": "code",
   "execution_count": 206,
   "metadata": {},
   "outputs": [],
   "source": [
    "# Initialise the tasks data frame\n",
    "logging.info('Getting a list of the mapping tasks')\n",
    "skip = 0\n",
    "limit = 200\n",
    "i = 0\n",
    "dfTasks = pd.DataFrame()\n",
    "\n",
    "# Page through mapping task queries\n",
    "while True:\n",
    "\n",
    "    # Get a list of the mapping tasks\n",
    "    url = 'https://' + config['idmc']['pod'] + '.' + config['idmc']['host'] + '/saas/public/core/v3/objects?q=type==%27MTT%27&limit=' + str(limit) + '&skip=' + str(skip)\n",
    "    r = http.request(\n",
    "        'GET', \n",
    "        url,\n",
    "        timeout=3000,\n",
    "        headers={\n",
    "                'Accept': 'application/json',\n",
    "                'INFA-SESSION-ID': sessionID\n",
    "            }\n",
    "        )\n",
    "        \n",
    "    # Convert the response into a datframe\n",
    "    result = json.loads(r.data.decode('utf-8'))\n",
    "    dfTmp = pd.json_normalize(result)\n",
    "    dfResp = dfTmp.copy()\n",
    "    taskCount = dfResp.iloc[0]['count']\n",
    "    dfResp = dfResp['objects'].explode()\n",
    "    dfResp = pd.DataFrame(dfResp)\n",
    "    dfResp = pd.json_normalize(dfResp['objects'])\n",
    "    dfTasks = pd.concat([dfTasks, dfResp], ignore_index=True)\n",
    "\n",
    "    # Break if all records have been returned\n",
    "    i = i + limit\n",
    "    if i > taskCount:\n",
    "        break\n",
    "\n"
   ]
  },
  {
   "cell_type": "code",
   "execution_count": 207,
   "metadata": {},
   "outputs": [],
   "source": [
    "# Join the IDMC info onto the plans\n",
    "dfResp['step_name'] = dfResp['path'].apply(lambda x: os.path.basename(x))\n",
    "dfResp = dfResp[['step_name','id','path']]\n",
    "dfResp = dfResp.rename(columns={'id': 'infa_id', 'path': 'infa_path'})\n",
    "dfPlans = dfPlans.merge(dfResp, how='left', on='step_name')\n",
    "dfPlans['agent_id'] = agentGroupID\n",
    "dfPlans['agent_guid'] = agentGroupGUID\n",
    "dfPlans['agent_name'] = agentGroupName\n",
    "dfPlans['script_dir'] = config['local']['scriptsDir']\n",
    "dfPlans['script_args'] = '' # TODO placeholder for any args that need to be passed to the step script"
   ]
  },
  {
   "cell_type": "code",
   "execution_count": 208,
   "metadata": {},
   "outputs": [],
   "source": [
    "# Log an error if any plans did not find an existing matching task\n",
    "dfMissing = dfPlans[(dfPlans['infa_id'] == '') | (dfPlans['infa_id'].isna())].copy()\n",
    "if len(dfMissing.index) > 0:\n",
    "    logging.error('Some plans are missing a converted mapping task. Please see \"out/missing_tasks.csv\" for more details')\n",
    "    dfMissing.to_csv('out/missing_tasks.csv', index=False, quoting=csv.QUOTE_ALL)"
   ]
  },
  {
   "cell_type": "markdown",
   "metadata": {},
   "source": [
    "# Generate the Taskflows"
   ]
  },
  {
   "cell_type": "code",
   "execution_count": 209,
   "metadata": {},
   "outputs": [],
   "source": [
    "# Insert placeholder element for temp fields\n",
    "# <tempFields>\n",
    "# </tempFields>\n",
    "tmpFieldsEl = etree.Element(\"tempFields\")\n",
    "parents = root.xpath(\"//*[local-name() = 'taskflow'][1]\")\n",
    "\n",
    "# Append the temp fields element if found\n",
    "if parents:\n",
    "    for parent in parents:\n",
    "        parent.append(tmpFieldsEl)\n",
    "else:\n",
    "    logging.error(\"The specified parent tag was not found.\")\n"
   ]
  },
  {
   "cell_type": "code",
   "execution_count": null,
   "metadata": {},
   "outputs": [
    {
     "ename": "NameError",
     "evalue": "name 'catchID' is not defined",
     "output_type": "error",
     "traceback": [
      "\u001b[1;31m---------------------------------------------------------------------------\u001b[0m",
      "\u001b[1;31mNameError\u001b[0m                                 Traceback (most recent call last)",
      "\u001b[1;32m~\\AppData\\Local\\Temp\\ipykernel_24040\\1360128360.py\u001b[0m in \u001b[0;36m<module>\u001b[1;34m\u001b[0m\n\u001b[0;32m    153\u001b[0m             \u001b[1;31m# Create 'catch' elements under 'events'\u001b[0m\u001b[1;33m\u001b[0m\u001b[1;33m\u001b[0m\u001b[0m\n\u001b[0;32m    154\u001b[0m             \u001b[0mcatch1ID\u001b[0m \u001b[1;33m=\u001b[0m \u001b[0mstr\u001b[0m\u001b[1;33m(\u001b[0m\u001b[0muuid\u001b[0m\u001b[1;33m.\u001b[0m\u001b[0muuid4\u001b[0m\u001b[1;33m(\u001b[0m\u001b[1;33m)\u001b[0m\u001b[1;33m)\u001b[0m\u001b[1;33m.\u001b[0m\u001b[0mreplace\u001b[0m\u001b[1;33m(\u001b[0m\u001b[1;34m'-'\u001b[0m\u001b[1;33m,\u001b[0m\u001b[1;34m''\u001b[0m\u001b[1;33m)\u001b[0m\u001b[1;33m\u001b[0m\u001b[1;33m\u001b[0m\u001b[0m\n\u001b[1;32m--> 155\u001b[1;33m             \u001b[0mcatch1\u001b[0m \u001b[1;33m=\u001b[0m \u001b[0metree\u001b[0m\u001b[1;33m.\u001b[0m\u001b[0mSubElement\u001b[0m\u001b[1;33m(\u001b[0m\u001b[0mevents\u001b[0m\u001b[1;33m,\u001b[0m \u001b[1;34m\"catch\"\u001b[0m\u001b[1;33m,\u001b[0m \u001b[0mfaultField\u001b[0m\u001b[1;33m=\u001b[0m\u001b[1;34mf\"temp.{ task['step_name'] }/fault\"\u001b[0m\u001b[1;33m,\u001b[0m \u001b[0mid\u001b[0m\u001b[1;33m=\u001b[0m\u001b[0mcatchID\u001b[0m\u001b[1;33m,\u001b[0m \u001b[0minterrupting\u001b[0m\u001b[1;33m=\u001b[0m\u001b[1;34m\"true\"\u001b[0m\u001b[1;33m,\u001b[0m \u001b[0mname\u001b[0m\u001b[1;33m=\u001b[0m\u001b[1;34m\"error\"\u001b[0m\u001b[1;33m)\u001b[0m\u001b[1;33m\u001b[0m\u001b[1;33m\u001b[0m\u001b[0m\n\u001b[0m\u001b[0;32m    156\u001b[0m             \u001b[0metree\u001b[0m\u001b[1;33m.\u001b[0m\u001b[0mSubElement\u001b[0m\u001b[1;33m(\u001b[0m\u001b[0mcatch1\u001b[0m\u001b[1;33m,\u001b[0m \u001b[1;34m\"suspend\"\u001b[0m\u001b[1;33m)\u001b[0m\u001b[1;33m\u001b[0m\u001b[1;33m\u001b[0m\u001b[0m\n\u001b[0;32m    157\u001b[0m             \u001b[0mcatchID\u001b[0m \u001b[1;33m=\u001b[0m \u001b[0mstr\u001b[0m\u001b[1;33m(\u001b[0m\u001b[0muuid\u001b[0m\u001b[1;33m.\u001b[0m\u001b[0muuid4\u001b[0m\u001b[1;33m(\u001b[0m\u001b[1;33m)\u001b[0m\u001b[1;33m)\u001b[0m\u001b[1;33m.\u001b[0m\u001b[0mreplace\u001b[0m\u001b[1;33m(\u001b[0m\u001b[1;34m'-'\u001b[0m\u001b[1;33m,\u001b[0m\u001b[1;34m''\u001b[0m\u001b[1;33m)\u001b[0m\u001b[1;33m\u001b[0m\u001b[1;33m\u001b[0m\u001b[0m\n",
      "\u001b[1;31mNameError\u001b[0m: name 'catchID' is not defined"
     ]
    }
   ],
   "source": [
    "# Get the list of unique plans\n",
    "uniquePlans = dfPlans['plan_name'].unique()\n",
    "\n",
    "# Process each of the plans\n",
    "for plan in uniquePlans:\n",
    "    dfTmpPlans = dfPlans.copy()\n",
    "    dfTmpPlans = dfTmpPlans[dfTmpPlans['plan_name'] == plan]\n",
    "    \n",
    "    # Process the step order\n",
    "    uniqueSteps = np.sort( dfTmpPlans['plan_step_order'].unique() )\n",
    "    for stepIdx, step in enumerate(uniqueSteps):\n",
    "        dfTmpSteps = dfTmpPlans.copy()\n",
    "        dfTmpSteps = dfTmpSteps[dfTmpSteps['plan_step_order'] == step]\n",
    "        numTasks = len(dfTmpSteps)\n",
    "        \n",
    "        \n",
    "        # Process the tasks for the current step\n",
    "        for taskIdx, task in dfTmpSteps.iterrows():\n",
    "            containerID = str(uuid.uuid4()).replace('-','')\n",
    "            stepID = str(uuid.uuid4()).replace('-','')\n",
    "\n",
    "            # Update the start link if the first container\n",
    "            # <start id=\"b\">\n",
    "            #   <link id=\"m6yllm0z\" targetId=\"m6yllm1m\"/>\n",
    "            # </start>\n",
    "            if stepIdx == 0 and taskIdx == 0:\n",
    "                startLink = root.xpath(\"//*[local-name() = 'flow'][1]/*[local-name() = 'start'][1]/*[local-name() = 'link'][1]\")\n",
    "                startLink[0].set('targetId', containerID)\n",
    "\n",
    "            # Insert a new temp field element for the task\n",
    "            # <field description=\"\" name=\"Data Task 1\" type=\"reference\">\n",
    "            #     <options>\n",
    "            #         <option name=\"failOnNotRun\">false</option>\n",
    "            #         <option name=\"failOnFault\">false</option>\n",
    "            #         <option name=\"referenceTo\">$po:mt-Example-1jY0fuy0iEUhkrHVLx78WK</option>\n",
    "            #     </options>\n",
    "            # </field>\n",
    "            fieldEl = etree.Element(\"field\", description=\"\", name=task['step_name'], type=\"reference\")\n",
    "            optsEl = etree.SubElement(fieldEl, \"options\")\n",
    "            etree.SubElement(optsEl, \"option\", name=\"failOnNotRun\").text = \"false\"\n",
    "            etree.SubElement(optsEl, \"option\", name=\"failOnFault\").text = \"false\"\n",
    "            if task['plan_step_type'] == 'CREATE_QUERY_INDEXES':\n",
    "                tmpName = 'INFA-commandTask'\n",
    "            else:\n",
    "                tmpName = re.sub( r'[^A-Za-z0-9\\-]+', '-', task['step_name'] )\n",
    "            etree.SubElement(optsEl, \"option\", name=\"referenceTo\").text = f\"$po:{ tmpName }\"\n",
    "\n",
    "            # Append the field element\n",
    "            parents = root.xpath(\"//*[local-name() = 'taskflow'][1]/*[local-name() = 'tempFields'][1]\")\n",
    "            if parents:\n",
    "                for parent in parents:\n",
    "                    parent.append(fieldEl)\n",
    "            else:\n",
    "                logging.error(\"The specified parent tag was not found.\")\n",
    "\n",
    "            # Insert the container\n",
    "            # <eventContainer id=\"m6yllm1m\">\n",
    "            #      <service id=\"m6yllm0y\">\n",
    "            #         <title>Data Task 1</title>\n",
    "            #         <serviceName>ICSExecuteDataTask</serviceName>\n",
    "            #         <serviceGUID/>\n",
    "            #         <serviceInput>\n",
    "            #            <parameter name=\"Wait for Task to Complete\" source=\"constant\" updatable=\"true\">true</parameter>\n",
    "            #            <parameter name=\"Max Wait\" source=\"constant\" updatable=\"true\">604800</parameter>\n",
    "            #            <parameter name=\"Task Name\" source=\"constant\" updatable=\"true\">mt_Example</parameter>\n",
    "            #            <parameter name=\"GUID\" source=\"constant\" updatable=\"true\">1jY0fuy0iEUhkrHVLx78WK</parameter>\n",
    "            #            <parameter name=\"Task Type\" source=\"constant\" updatable=\"true\">MCT</parameter>\n",
    "            #            <parameter name=\"Has Inout Parameters\" source=\"constant\" updatable=\"true\">false</parameter>\n",
    "            #            <parameter name=\"taskField\" source=\"nested\">\n",
    "            #               <operation source=\"field\" to=\"mt-Example-1jY0fuy0iEUhkrHVLx78WK\">temp.Data Task 1</operation>\n",
    "            #            </parameter>\n",
    "            #         </serviceInput>\n",
    "            #         <serviceOutput>\n",
    "            #            <operation source=\"field\" to=\"temp.Data Task 1/output/Object_Name\">Object Name</operation>\n",
    "            #            <operation source=\"field\" to=\"temp.Data Task 1/output/Run_Id\">Run Id</operation>\n",
    "            #            <operation source=\"field\" to=\"temp.Data Task 1/output/Log_Id\">Log Id</operation>\n",
    "            #            <operation source=\"field\" to=\"temp.Data Task 1/output/Task_Id\">Task Id</operation>\n",
    "            #            <operation source=\"field\" to=\"temp.Data Task 1/output/Task_Status\">Task Status</operation>\n",
    "            #            <operation source=\"field\" to=\"temp.Data Task 1/output/Success_Source_Rows\">Success Source Rows</operation>\n",
    "            #            <operation source=\"field\" to=\"temp.Data Task 1/output/Failed_Source_Rows\">Failed Source Rows</operation>\n",
    "            #            <operation source=\"field\" to=\"temp.Data Task 1/output/Success_Target_Rows\">Success Target Rows</operation>\n",
    "            #            <operation source=\"field\" to=\"temp.Data Task 1/output/Failed_Target_Rows\">Failed Target Rows</operation>\n",
    "            #            <operation source=\"field\" to=\"temp.Data Task 1/output/Start_Time\">Start Time</operation>\n",
    "            #            <operation source=\"field\" to=\"temp.Data Task 1/output/End_Time\">End Time</operation>\n",
    "            #            <operation source=\"field\" to=\"temp.Data Task 1/output/Error_Message\">Error Message</operation>\n",
    "            #            <operation source=\"field\" to=\"temp.Data Task 1/output/TotalTransErrors\">Total Transformation Errors</operation>\n",
    "            #            <operation source=\"field\" to=\"temp.Data Task 1/output/FirstErrorCode\">First Error Code</operation>\n",
    "            #         </serviceOutput>\n",
    "            #      </service>\n",
    "            #      <link id=\"m6zv1b1q\" targetId=\"m6zv1b2f\"/>\n",
    "            #      <events>\n",
    "            #         <catch faultField=\"temp.Data Task 1/fault\"\n",
    "            #                id=\"m6yllm1k\"\n",
    "            #                interrupting=\"true\"\n",
    "            #                name=\"error\">\n",
    "            #            <suspend/>\n",
    "            #         </catch>\n",
    "            #         <catch faultField=\"temp.Data Task 1/fault\"\n",
    "            #                id=\"m6yllm1l\"\n",
    "            #                interrupting=\"true\"\n",
    "            #                name=\"warning\"/>\n",
    "            #      </events>\n",
    "            #   </eventContainer>\n",
    "            eventEl = etree.Element(\"eventContainer\", id=containerID)\n",
    "            svcEl = etree.SubElement(eventEl, \"service\", id=stepID)\n",
    "            \n",
    "            # Create child elements under 'service'\n",
    "            etree.SubElement(svcEl, \"title\").text = task['step_name']\n",
    "            etree.SubElement(svcEl, \"serviceName\").text = \"ICSExecuteDataTask\"\n",
    "            etree.SubElement(svcEl, \"serviceGUID\")\n",
    "\n",
    "            # Create 'serviceInput' element\n",
    "            service_input = etree.SubElement(svcEl, \"serviceInput\")\n",
    "\n",
    "            # Create 'parameter' elements under 'serviceInput'\n",
    "            parameters = [\n",
    "                {\"name\": \"Wait for Task to Complete\", \"value\": \"true\"},\n",
    "                {\"name\": \"Max Wait\", \"value\": \"604800\"},\n",
    "                {\"name\": \"Task Name\", \"value\": task['step_name']},\n",
    "                {\"name\": \"GUID\", \"value\": task['step_name']},\n",
    "                {\"name\": \"Task Type\", \"value\": \"MCT\"},\n",
    "                {\"name\": \"Has Inout Parameters\", \"value\": \"false\"},\n",
    "            ]\n",
    "            for param in parameters:\n",
    "                etree.SubElement(service_input, \"parameter\", name=param[\"name\"], source=\"constant\", updatable=\"true\").text = param[\"value\"]\n",
    "\n",
    "            # Create 'parameter' with nested 'operation' element\n",
    "            nested_param = etree.SubElement(service_input, \"parameter\", name=\"taskField\", source=\"nested\")\n",
    "            etree.SubElement(nested_param, \"operation\", source=\"field\", to=f\"{ tmpName }-{ task['step_name'] }\").text = f\"temp.{ task['step_name'] }\"\n",
    "\n",
    "            # Create 'serviceOutput' element\n",
    "            service_output = etree.SubElement(svcEl, \"serviceOutput\")\n",
    "\n",
    "            # Create 'operation' elements under 'serviceOutput'\n",
    "            output_fields = [\n",
    "                \"Object_Name\", \"Run_Id\", \"Log_Id\", \"Task_Id\", \"Task_Status\",\n",
    "                \"Success_Source_Rows\", \"Failed_Source_Rows\", \"Success_Target_Rows\",\n",
    "                \"Failed_Target_Rows\", \"Start_Time\", \"End_Time\", \"Error_Message\",\n",
    "                \"TotalTransErrors\", \"FirstErrorCode\"\n",
    "            ]\n",
    "\n",
    "            for field in output_fields:\n",
    "                etree.SubElement(service_output, \"operation\", source=\"field\", to=f\"temp.{ task['step_name'] }/output/{field}\").text = field.replace('_', ' ')\n",
    "\n",
    "            # Create 'link' element\n",
    "            # TODO update link target ID\n",
    "            linkID = str(uuid.uuid4()).replace('-','')\n",
    "            etree.SubElement(eventEl, \"link\", id=linkID, targetId=\"m6zv1b2f\")\n",
    "\n",
    "            # Create 'events' element\n",
    "            events = etree.SubElement(eventEl, \"events\")\n",
    "\n",
    "            # Create 'catch' elements under 'events'\n",
    "            catch1ID = str(uuid.uuid4()).replace('-','')\n",
    "            catch1 = etree.SubElement(events, \"catch\", faultField=f\"temp.{ task['step_name'] }/fault\", id=catch1ID, interrupting=\"true\", name=\"error\")\n",
    "            etree.SubElement(catch1, \"suspend\")\n",
    "            catchID = str(uuid.uuid4()).replace('-','')\n",
    "            etree.SubElement(events, \"catch\", faultField=f\"temp.{ task['step_name'] }/fault\", id=catchID, interrupting=\"true\", name=\"warning\")\n",
    "\n",
    "            # Append the container element\n",
    "            parents = root.xpath(\"//*[local-name() = 'taskflow'][1]/*[local-name() = 'flow'][1]\")\n",
    "            if parents:\n",
    "                for parent in parents:\n",
    "                    parent.append(eventEl)\n",
    "            else:\n",
    "                logging.error(\"The specified parent tag was not found.\")\n",
    "\n",
    "\n",
    "    #TODO if the last container then add a link to the end\n",
    "\n"
   ]
  },
  {
   "cell_type": "markdown",
   "metadata": {},
   "source": [
    "# Save the Taskflow XML"
   ]
  },
  {
   "cell_type": "code",
   "execution_count": null,
   "metadata": {},
   "outputs": [],
   "source": [
    "# Save the Taskflow the xml file\n",
    "tree.write('out/test.xml', pretty_print=True, xml_declaration=False, encoding='UTF-8')"
   ]
  },
  {
   "cell_type": "markdown",
   "metadata": {},
   "source": [
    "# Example adding a new element"
   ]
  },
  {
   "cell_type": "code",
   "execution_count": 96,
   "metadata": {},
   "outputs": [],
   "source": [
    "# Test append a new element\n",
    "new_element = etree.Element(\"newElement\")\n",
    "new_element.text = \"This is a new element\"\n",
    "parents = root.xpath(\"//*[local-name() = 'taskflow'][1]\")\n",
    "\n",
    "# Append the new element if found\n",
    "if parents:\n",
    "    for parent in parents:\n",
    "        parent.append(new_element)\n",
    "else:\n",
    "    print(\"The specified parent tag was not found.\")\n",
    "\n",
    "# Test writing the xml file\n",
    "tree.write('out/test.xml', pretty_print=True, xml_declaration=False, encoding='UTF-8')"
   ]
  },
  {
   "cell_type": "markdown",
   "metadata": {},
   "source": [
    "# Testing Below This Line"
   ]
  },
  {
   "cell_type": "code",
   "execution_count": 97,
   "metadata": {},
   "outputs": [
    {
     "data": {
      "text/plain": [
       "'Hello jon!'"
      ]
     },
     "execution_count": 97,
     "metadata": {},
     "output_type": "execute_result"
    }
   ],
   "source": [
    "dac2idmc.greet('jon')"
   ]
  },
  {
   "cell_type": "code",
   "execution_count": 122,
   "metadata": {},
   "outputs": [
    {
     "data": {
      "text/plain": [
       "plan_wid                         201C9CC7C59D167A79A2E247C6189A67\n",
       "plan_name                   Echo Employee Snapshot Oracle R12.1.3\n",
       "plan_inactive_flag                                              N\n",
       "plan_step_wid                     4F418CAB76FCD515C5A7F3C94D552CF\n",
       "plan_step_order                                                 0\n",
       "plan_step_type                                            REGULAR\n",
       "step_guid                         4F418CAB76FCD515C5A7F3C94D552CF\n",
       "step_wid                          1911f67f35d9a487283f503fc7ab2ac\n",
       "step_cmd                      SDE_ORA_EmployeeDailySnapshotFact_2\n",
       "step_name                     SDE_ORA_EmployeeDailySnapshotFact_2\n",
       "infa_id                                    a0Ks8uNXYKLg38LRNzw6gv\n",
       "infa_path             Default/SDE_ORA_EmployeeDailySnapshotFact_2\n",
       "agent_id                                     010SU125000000000002\n",
       "agent_guid                                 cPbb2XLzpoweqfBP9W6kOJ\n",
       "agent_name                                         AUW487V7S3-AAD\n",
       "script_dir                                 C:\\Informatica\\scripts\n",
       "script_args                                                      \n",
       "Name: 0, dtype: object"
      ]
     },
     "execution_count": 122,
     "metadata": {},
     "output_type": "execute_result"
    }
   ],
   "source": [
    "dfPlans.iloc[0]"
   ]
  },
  {
   "cell_type": "code",
   "execution_count": null,
   "metadata": {},
   "outputs": [],
   "source": []
  }
 ],
 "metadata": {
  "kernelspec": {
   "display_name": "base",
   "language": "python",
   "name": "python3"
  },
  "language_info": {
   "codemirror_mode": {
    "name": "ipython",
    "version": 3
   },
   "file_extension": ".py",
   "mimetype": "text/x-python",
   "name": "python",
   "nbconvert_exporter": "python",
   "pygments_lexer": "ipython3",
   "version": "3.9.13"
  }
 },
 "nbformat": 4,
 "nbformat_minor": 2
}
