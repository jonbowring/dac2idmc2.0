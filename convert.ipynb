{
 "cells": [
  {
   "cell_type": "code",
   "execution_count": 269,
   "metadata": {},
   "outputs": [],
   "source": [
    "import pandas as pd\n",
    "import json\n",
    "import os\n",
    "import urllib3\n",
    "import csv\n",
    "from urllib.parse import quote\n",
    "from lxml import etree"
   ]
  },
  {
   "cell_type": "markdown",
   "metadata": {},
   "source": [
    "# Read the Config"
   ]
  },
  {
   "cell_type": "code",
   "execution_count": 270,
   "metadata": {},
   "outputs": [],
   "source": [
    "with open('config/config.json', 'r') as infile:\n",
    "    config = json.load(infile)\n"
   ]
  },
  {
   "cell_type": "markdown",
   "metadata": {},
   "source": [
    "# Read the Inputs"
   ]
  },
  {
   "cell_type": "code",
   "execution_count": 271,
   "metadata": {},
   "outputs": [],
   "source": [
    "# Read the execution plans\n",
    "dfPlans = pd.read_csv('in/plans.csv', dtype='str', encoding='utf-8', na_filter=False)"
   ]
  },
  {
   "cell_type": "markdown",
   "metadata": {},
   "source": [
    "# Lookup the Converted Mapping Task IDs"
   ]
  },
  {
   "cell_type": "code",
   "execution_count": 272,
   "metadata": {},
   "outputs": [],
   "source": [
    "# Login to IDMC\n",
    "http = urllib3.PoolManager()\n",
    "\n",
    "data = '{ \"username\": \"' + config['idmc']['user'] + '\", \"password\": \"' + config['idmc']['password'] + '\" }'\n",
    "\n",
    "url = 'https://' + config['idmc']['host'] + '/saas/public/core/v3/login'\n",
    "r = http.request(\n",
    "    'POST', \n",
    "    url,\n",
    "    timeout=3000,\n",
    "    body=data,\n",
    "    headers={\n",
    "            'Accept': 'application/json',\n",
    "            'Content-Type': 'application/json'\n",
    "        }\n",
    "    )\n",
    "    \n",
    "# Convert the response into a datframe\n",
    "result = json.loads(r.data.decode('utf-8'))\n",
    "sessionID = result['userInfo']['sessionId']\n"
   ]
  },
  {
   "cell_type": "code",
   "execution_count": 273,
   "metadata": {},
   "outputs": [],
   "source": [
    "# Get the secure agent ID\n",
    "\n",
    "url = 'https://' + config['idmc']['pod'] + '.' + config['idmc']['host'] + '/saas/api/v2/runtimeEnvironment/name/' + quote(config['idmc']['agentGroupName'])\n",
    "r = http.request(\n",
    "    'GET', \n",
    "    url,\n",
    "    timeout=3000,\n",
    "    headers={\n",
    "            'Accept': 'application/json',\n",
    "            'icSessionId': sessionID\n",
    "        }\n",
    "    )\n",
    "    \n",
    "# Convert the response into a datframe\n",
    "result = json.loads(r.data.decode('utf-8'))\n",
    "agentGroupID = result['id']\n",
    "agentGroupGUID = result['federatedId']\n",
    "agentGroupName = config['idmc']['agentGroupName']"
   ]
  },
  {
   "cell_type": "code",
   "execution_count": 274,
   "metadata": {},
   "outputs": [],
   "source": [
    "# Initialise the tasks data frame\n",
    "skip = 0\n",
    "limit = 200\n",
    "i = 0\n",
    "dfTasks = pd.DataFrame()\n",
    "\n",
    "# Page through mapping task queries\n",
    "while True:\n",
    "\n",
    "    # Get a list of the mapping tasks\n",
    "    url = 'https://' + config['idmc']['pod'] + '.' + config['idmc']['host'] + '/saas/public/core/v3/objects?q=type==%27MTT%27&limit=' + str(limit) + '&skip=' + str(skip)\n",
    "    r = http.request(\n",
    "        'GET', \n",
    "        url,\n",
    "        timeout=3000,\n",
    "        headers={\n",
    "                'Accept': 'application/json',\n",
    "                'INFA-SESSION-ID': sessionID\n",
    "            }\n",
    "        )\n",
    "        \n",
    "    # Convert the response into a datframe\n",
    "    result = json.loads(r.data.decode('utf-8'))\n",
    "    dfTmp = pd.json_normalize(result)\n",
    "    dfResp = dfTmp.copy()\n",
    "    taskCount = dfResp.iloc[0]['count']\n",
    "    dfResp = dfResp['objects'].explode()\n",
    "    dfResp = pd.DataFrame(dfResp)\n",
    "    dfResp = pd.json_normalize(dfResp['objects'])\n",
    "    dfTasks = pd.concat([dfTasks, dfResp], ignore_index=True)\n",
    "\n",
    "    # Break if all records have been returned\n",
    "    i = i + limit\n",
    "    if i > taskCount:\n",
    "        break\n",
    "\n"
   ]
  },
  {
   "cell_type": "code",
   "execution_count": 275,
   "metadata": {},
   "outputs": [],
   "source": [
    "# Join the IDMC info onto the plans\n",
    "dfResp['step_name'] = dfResp['path'].apply(lambda x: os.path.basename(x))\n",
    "dfResp = dfResp[['step_name','id','path']]\n",
    "dfResp = dfResp.rename(columns={'id': 'infa_id', 'path': 'infa_path'})\n",
    "dfPlans = dfPlans.merge(dfResp, how='left', on='step_name')\n",
    "dfPlans['agent_id'] = agentGroupID\n",
    "dfPlans['agent_guid'] = agentGroupGUID\n",
    "dfPlans['agent_name'] = agentGroupName\n",
    "dfPlans['script_dir'] = config['local']['scriptsDir']\n",
    "dfPlans['script_args'] = '' # TODO placeholder for any args that need to be passed to the step script"
   ]
  },
  {
   "cell_type": "code",
   "execution_count": 276,
   "metadata": {},
   "outputs": [],
   "source": [
    "# Log an error if any plans did not find an existing matching task\n",
    "dfMissing = dfPlans[(dfPlans['infa_id'] == '') | (dfPlans['infa_id'].isna())].copy()\n",
    "if len(dfMissing.index) > 0:\n",
    "    dfMissing.to_csv('out/missing_tasks.csv', index=False, quoting=csv.QUOTE_ALL)"
   ]
  },
  {
   "cell_type": "markdown",
   "metadata": {},
   "source": [
    "# Read the template taskflow"
   ]
  },
  {
   "cell_type": "code",
   "execution_count": 277,
   "metadata": {},
   "outputs": [],
   "source": [
    "# Define the namespace map\n",
    "namespaces = {\n",
    "    'aetgt': 'http://schemas.active-endpoints.com/appmodules/repository/2010/10/avrepository.xsd',\n",
    "    'types1': 'http://schemas.active-endpoints.com/appmodules/repository/2010/10/avrepository.xsd'\n",
    "}\n",
    "\n",
    "# Parse the template XML file\n",
    "tree = etree.parse('templates/tf_Base_Taskflow.TASKFLOW.xml')\n",
    "root = tree.getroot()"
   ]
  },
  {
   "cell_type": "markdown",
   "metadata": {},
   "source": [
    "# Example adding a new element"
   ]
  },
  {
   "cell_type": "code",
   "execution_count": 278,
   "metadata": {},
   "outputs": [
    {
     "name": "stdout",
     "output_type": "stream",
     "text": [
      "[<Element {http://schemas.active-endpoints.com/appmodules/screenflow/2010/10/avosScreenflow.xsd}taskflow at 0x1d8d4a93a80>]\n"
     ]
    }
   ],
   "source": [
    "# Test append a new element\n",
    "new_element = etree.Element(\"newElement\")\n",
    "new_element.text = \"This is a new element\"\n",
    "parents = root.xpath(\"//*[local-name() = 'taskflow'][1]\")\n",
    "\n",
    "# Append the new element if found\n",
    "if parents:\n",
    "    for parent in parents:\n",
    "        parent.append(new_element)\n",
    "else:\n",
    "    print(\"The specified parent tag was not found.\")\n",
    "\n",
    "# Test writing the xml file\n",
    "tree.write('out/test.xml', pretty_print=True, xml_declaration=False, encoding='UTF-8')"
   ]
  },
  {
   "cell_type": "markdown",
   "metadata": {},
   "source": [
    "# Testing Below This Line"
   ]
  },
  {
   "cell_type": "code",
   "execution_count": 279,
   "metadata": {},
   "outputs": [
    {
     "data": {
      "text/html": [
       "<div>\n",
       "<style scoped>\n",
       "    .dataframe tbody tr th:only-of-type {\n",
       "        vertical-align: middle;\n",
       "    }\n",
       "\n",
       "    .dataframe tbody tr th {\n",
       "        vertical-align: top;\n",
       "    }\n",
       "\n",
       "    .dataframe thead th {\n",
       "        text-align: right;\n",
       "    }\n",
       "</style>\n",
       "<table border=\"1\" class=\"dataframe\">\n",
       "  <thead>\n",
       "    <tr style=\"text-align: right;\">\n",
       "      <th></th>\n",
       "      <th>plan_wid</th>\n",
       "      <th>plan_name</th>\n",
       "      <th>plan_inactive_flag</th>\n",
       "      <th>plan_step_wid</th>\n",
       "      <th>plan_step_order</th>\n",
       "      <th>plan_step_type</th>\n",
       "      <th>step_guid</th>\n",
       "      <th>step_wid</th>\n",
       "      <th>step_cmd</th>\n",
       "      <th>step_name</th>\n",
       "      <th>infa_id</th>\n",
       "      <th>infa_path</th>\n",
       "      <th>agent_id</th>\n",
       "      <th>agent_guid</th>\n",
       "      <th>agent_name</th>\n",
       "      <th>script_dir</th>\n",
       "      <th>script_args</th>\n",
       "    </tr>\n",
       "  </thead>\n",
       "  <tbody>\n",
       "    <tr>\n",
       "      <th>0</th>\n",
       "      <td>201C9CC7C59D167A79A2E247C6189A67</td>\n",
       "      <td>Echo Employee Snapshot Oracle R12.1.3</td>\n",
       "      <td>N</td>\n",
       "      <td>4F418CAB76FCD515C5A7F3C94D552CF</td>\n",
       "      <td>0</td>\n",
       "      <td>REGULAR</td>\n",
       "      <td>4F418CAB76FCD515C5A7F3C94D552CF</td>\n",
       "      <td>1911f67f35d9a487283f503fc7ab2ac</td>\n",
       "      <td>SDE_ORA_EmployeeDailySnapshotFact_2</td>\n",
       "      <td>SDE_ORA_EmployeeDailySnapshotFact_2</td>\n",
       "      <td>a0Ks8uNXYKLg38LRNzw6gv</td>\n",
       "      <td>Default/SDE_ORA_EmployeeDailySnapshotFact_2</td>\n",
       "      <td>010SU125000000000002</td>\n",
       "      <td>cPbb2XLzpoweqfBP9W6kOJ</td>\n",
       "      <td>AUW487V7S3-AAD</td>\n",
       "      <td>C:\\Informatica\\scripts</td>\n",
       "      <td></td>\n",
       "    </tr>\n",
       "    <tr>\n",
       "      <th>1</th>\n",
       "      <td>201C9CC7C59D167A79A2E247C6189A67</td>\n",
       "      <td>Echo Employee Snapshot Oracle R12.1.3</td>\n",
       "      <td>N</td>\n",
       "      <td>D1A6418BA9B721A3282ECC5948E8866D</td>\n",
       "      <td>0</td>\n",
       "      <td>REGULAR</td>\n",
       "      <td></td>\n",
       "      <td>15cf56791e1279889d61b836271199a</td>\n",
       "      <td>SDE_ORA_EmployeeDailySnapshotFact_3</td>\n",
       "      <td>SDE_ORA_EmployeeDailySnapshotFact_3</td>\n",
       "      <td>8gORkCCxfM8hk1VxABRRqd</td>\n",
       "      <td>Default/SDE_ORA_EmployeeDailySnapshotFact_3</td>\n",
       "      <td>010SU125000000000002</td>\n",
       "      <td>cPbb2XLzpoweqfBP9W6kOJ</td>\n",
       "      <td>AUW487V7S3-AAD</td>\n",
       "      <td>C:\\Informatica\\scripts</td>\n",
       "      <td></td>\n",
       "    </tr>\n",
       "    <tr>\n",
       "      <th>2</th>\n",
       "      <td>201C9CC7C59D167A79A2E247C6189A67</td>\n",
       "      <td>Echo Employee Snapshot Oracle R12.1.3</td>\n",
       "      <td>N</td>\n",
       "      <td>C4FA37D5638DC49425B9A3E8572EF1</td>\n",
       "      <td>0</td>\n",
       "      <td>REGULAR</td>\n",
       "      <td></td>\n",
       "      <td>17d561355624ced1967afc8fb7a1836e</td>\n",
       "      <td>SDE_ORA_EmployeeDailySnapshotFact_4</td>\n",
       "      <td>SDE_ORA_EmployeeDailySnapshotFact_4</td>\n",
       "      <td>6vPlMGJ7sw6juVvUtKpxYq</td>\n",
       "      <td>Default/SDE_ORA_EmployeeDailySnapshotFact_4</td>\n",
       "      <td>010SU125000000000002</td>\n",
       "      <td>cPbb2XLzpoweqfBP9W6kOJ</td>\n",
       "      <td>AUW487V7S3-AAD</td>\n",
       "      <td>C:\\Informatica\\scripts</td>\n",
       "      <td></td>\n",
       "    </tr>\n",
       "    <tr>\n",
       "      <th>3</th>\n",
       "      <td>201C9CC7C59D167A79A2E247C6189A67</td>\n",
       "      <td>Echo Employee Snapshot Oracle R12.1.3</td>\n",
       "      <td>N</td>\n",
       "      <td>C1CB82CC89178BE3424CEE1896ED</td>\n",
       "      <td>0</td>\n",
       "      <td>REGULAR</td>\n",
       "      <td></td>\n",
       "      <td>88818EC577E3BDEA5FAF5D56ED6E8442</td>\n",
       "      <td></td>\n",
       "      <td>TASK_GROUP_Extract_EmployeeDailySnapshotFact_P...</td>\n",
       "      <td>7PjDO1zxryekytQ7Oh1zEP</td>\n",
       "      <td>Default/TASK_GROUP_Extract_EmployeeDailySnapsh...</td>\n",
       "      <td>010SU125000000000002</td>\n",
       "      <td>cPbb2XLzpoweqfBP9W6kOJ</td>\n",
       "      <td>AUW487V7S3-AAD</td>\n",
       "      <td>C:\\Informatica\\scripts</td>\n",
       "      <td></td>\n",
       "    </tr>\n",
       "    <tr>\n",
       "      <th>4</th>\n",
       "      <td>201C9CC7C59D167A79A2E247C6189A67</td>\n",
       "      <td>Echo Employee Snapshot Oracle R12.1.3</td>\n",
       "      <td>N</td>\n",
       "      <td>C9EA5C489D4F8CE8B019A694E906B6B</td>\n",
       "      <td>1</td>\n",
       "      <td>REGULAR</td>\n",
       "      <td></td>\n",
       "      <td>6bcdbdd6812a9ea517908ca566436fb</td>\n",
       "      <td>SDE_ORA_EmployeeDailySnapshotFact_1</td>\n",
       "      <td>SDE_ORA_EmployeeDailySnapshotFact_1</td>\n",
       "      <td>aeOQ6VugmCxipbYyKlDRUr</td>\n",
       "      <td>Default/SDE_ORA_EmployeeDailySnapshotFact_1</td>\n",
       "      <td>010SU125000000000002</td>\n",
       "      <td>cPbb2XLzpoweqfBP9W6kOJ</td>\n",
       "      <td>AUW487V7S3-AAD</td>\n",
       "      <td>C:\\Informatica\\scripts</td>\n",
       "      <td></td>\n",
       "    </tr>\n",
       "  </tbody>\n",
       "</table>\n",
       "</div>"
      ],
      "text/plain": [
       "                           plan_wid                              plan_name  \\\n",
       "0  201C9CC7C59D167A79A2E247C6189A67  Echo Employee Snapshot Oracle R12.1.3   \n",
       "1  201C9CC7C59D167A79A2E247C6189A67  Echo Employee Snapshot Oracle R12.1.3   \n",
       "2  201C9CC7C59D167A79A2E247C6189A67  Echo Employee Snapshot Oracle R12.1.3   \n",
       "3  201C9CC7C59D167A79A2E247C6189A67  Echo Employee Snapshot Oracle R12.1.3   \n",
       "4  201C9CC7C59D167A79A2E247C6189A67  Echo Employee Snapshot Oracle R12.1.3   \n",
       "\n",
       "  plan_inactive_flag                     plan_step_wid plan_step_order  \\\n",
       "0                  N   4F418CAB76FCD515C5A7F3C94D552CF               0   \n",
       "1                  N  D1A6418BA9B721A3282ECC5948E8866D               0   \n",
       "2                  N    C4FA37D5638DC49425B9A3E8572EF1               0   \n",
       "3                  N      C1CB82CC89178BE3424CEE1896ED               0   \n",
       "4                  N   C9EA5C489D4F8CE8B019A694E906B6B               1   \n",
       "\n",
       "  plan_step_type                        step_guid  \\\n",
       "0        REGULAR  4F418CAB76FCD515C5A7F3C94D552CF   \n",
       "1        REGULAR                                    \n",
       "2        REGULAR                                    \n",
       "3        REGULAR                                    \n",
       "4        REGULAR                                    \n",
       "\n",
       "                           step_wid                             step_cmd  \\\n",
       "0   1911f67f35d9a487283f503fc7ab2ac  SDE_ORA_EmployeeDailySnapshotFact_2   \n",
       "1   15cf56791e1279889d61b836271199a  SDE_ORA_EmployeeDailySnapshotFact_3   \n",
       "2  17d561355624ced1967afc8fb7a1836e  SDE_ORA_EmployeeDailySnapshotFact_4   \n",
       "3  88818EC577E3BDEA5FAF5D56ED6E8442                                        \n",
       "4   6bcdbdd6812a9ea517908ca566436fb  SDE_ORA_EmployeeDailySnapshotFact_1   \n",
       "\n",
       "                                           step_name                 infa_id  \\\n",
       "0                SDE_ORA_EmployeeDailySnapshotFact_2  a0Ks8uNXYKLg38LRNzw6gv   \n",
       "1                SDE_ORA_EmployeeDailySnapshotFact_3  8gORkCCxfM8hk1VxABRRqd   \n",
       "2                SDE_ORA_EmployeeDailySnapshotFact_4  6vPlMGJ7sw6juVvUtKpxYq   \n",
       "3  TASK_GROUP_Extract_EmployeeDailySnapshotFact_P...  7PjDO1zxryekytQ7Oh1zEP   \n",
       "4                SDE_ORA_EmployeeDailySnapshotFact_1  aeOQ6VugmCxipbYyKlDRUr   \n",
       "\n",
       "                                           infa_path              agent_id  \\\n",
       "0        Default/SDE_ORA_EmployeeDailySnapshotFact_2  010SU125000000000002   \n",
       "1        Default/SDE_ORA_EmployeeDailySnapshotFact_3  010SU125000000000002   \n",
       "2        Default/SDE_ORA_EmployeeDailySnapshotFact_4  010SU125000000000002   \n",
       "3  Default/TASK_GROUP_Extract_EmployeeDailySnapsh...  010SU125000000000002   \n",
       "4        Default/SDE_ORA_EmployeeDailySnapshotFact_1  010SU125000000000002   \n",
       "\n",
       "               agent_guid      agent_name              script_dir script_args  \n",
       "0  cPbb2XLzpoweqfBP9W6kOJ  AUW487V7S3-AAD  C:\\Informatica\\scripts              \n",
       "1  cPbb2XLzpoweqfBP9W6kOJ  AUW487V7S3-AAD  C:\\Informatica\\scripts              \n",
       "2  cPbb2XLzpoweqfBP9W6kOJ  AUW487V7S3-AAD  C:\\Informatica\\scripts              \n",
       "3  cPbb2XLzpoweqfBP9W6kOJ  AUW487V7S3-AAD  C:\\Informatica\\scripts              \n",
       "4  cPbb2XLzpoweqfBP9W6kOJ  AUW487V7S3-AAD  C:\\Informatica\\scripts              "
      ]
     },
     "execution_count": 279,
     "metadata": {},
     "output_type": "execute_result"
    }
   ],
   "source": [
    "dfPlans.head()"
   ]
  },
  {
   "cell_type": "code",
   "execution_count": null,
   "metadata": {},
   "outputs": [],
   "source": []
  }
 ],
 "metadata": {
  "kernelspec": {
   "display_name": "base",
   "language": "python",
   "name": "python3"
  },
  "language_info": {
   "codemirror_mode": {
    "name": "ipython",
    "version": 3
   },
   "file_extension": ".py",
   "mimetype": "text/x-python",
   "name": "python",
   "nbconvert_exporter": "python",
   "pygments_lexer": "ipython3",
   "version": "3.9.13"
  }
 },
 "nbformat": 4,
 "nbformat_minor": 2
}
