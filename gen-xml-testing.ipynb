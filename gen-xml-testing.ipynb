{
 "cells": [
  {
   "cell_type": "code",
   "execution_count": 4,
   "id": "176006c3",
   "metadata": {},
   "outputs": [],
   "source": [
    "from lxml import etree\n",
    "import uuid"
   ]
  },
  {
   "cell_type": "code",
   "execution_count": 5,
   "id": "72da5a8a",
   "metadata": {},
   "outputs": [
    {
     "data": {
      "text/plain": [
       "'tf_Generated_Taskflow'"
      ]
     },
     "execution_count": 5,
     "metadata": {},
     "output_type": "execute_result"
    }
   ],
   "source": [
    "taskflowName = 'tf_Generated_Taskflow'\n",
    "taskflowName"
   ]
  },
  {
   "cell_type": "code",
   "execution_count": 6,
   "id": "f08f50b3",
   "metadata": {},
   "outputs": [
    {
     "data": {
      "text/plain": [
       "'7db37a912d774b58b6412c3d8b2bd782'"
      ]
     },
     "execution_count": 6,
     "metadata": {},
     "output_type": "execute_result"
    }
   ],
   "source": [
    "taskflowID = str(uuid.uuid4()).replace('-','')\n",
    "taskflowID"
   ]
  },
  {
   "cell_type": "markdown",
   "id": "3956e006",
   "metadata": {},
   "source": [
    "# Build XML"
   ]
  },
  {
   "cell_type": "markdown",
   "id": "3a4db63b",
   "metadata": {},
   "source": [
    "## /aetgt:getResponse"
   ]
  },
  {
   "cell_type": "code",
   "execution_count": 7,
   "id": "1712e820",
   "metadata": {},
   "outputs": [],
   "source": [
    "# Define the namespace map\n",
    "namespaces = {\n",
    "    'aetgt': 'http://schemas.active-endpoints.com/appmodules/repository/2010/10/avrepository.xsd',\n",
    "    'types1': 'http://schemas.active-endpoints.com/appmodules/repository/2010/10/avrepository.xsd'\n",
    "}\n",
    "\n",
    "# Create the \"/aetgt:getResponse\" element\n",
    "namespace_url = 'http://schemas.active-endpoints.com/appmodules/repository/2010/10/avrepository.xsd'\n",
    "namespace = \"{%s}\" % namespace_url\n",
    "root = etree.Element(namespace + \"getResponse\", nsmap=namespaces)\n",
    "\n",
    "# Create the \"/aetgt:getResponse/types1:Item\" element\n",
    "namespace_url = 'http://schemas.active-endpoints.com/appmodules/repository/2010/10/avrepository.xsd'\n",
    "namespace = \"{%s}\" % namespace_url\n",
    "getResponse_Item = etree.SubElement(root, namespace + \"Item\", nsmap={'types1': namespace_url})"
   ]
  },
  {
   "cell_type": "markdown",
   "id": "ca5871d6",
   "metadata": {},
   "source": [
    "## /aetgt:getResponse/types1:Item"
   ]
  },
  {
   "cell_type": "code",
   "execution_count": 8,
   "id": "41d97b38",
   "metadata": {},
   "outputs": [],
   "source": [
    "# Create the \"/aetgt:getResponse/types1:Item/types1:EntryId\" element\n",
    "namespace_url = 'http://schemas.active-endpoints.com/appmodules/repository/2010/10/avrepository.xsd'\n",
    "namespace = \"{%s}\" % namespace_url\n",
    "getResponse_Item_EntryId = etree.SubElement(getResponse_Item, namespace + \"EntryId\", nsmap={'types1': namespace_url})\n",
    "getResponse_Item_EntryId.text = \"DEPOiVhC2g0aaaa-gt-58577-2025-02-07T05:28:41.474Z::tf.xml\"\n",
    "\n",
    "# Create the \"/aetgt:getResponse/types1:Item/types1:Name\" element\n",
    "namespace_url = 'http://schemas.active-endpoints.com/appmodules/repository/2010/10/avrepository.xsd'\n",
    "namespace = \"{%s}\" % namespace_url\n",
    "getResponse_Item_Name = etree.SubElement(getResponse_Item, namespace + \"Name\", nsmap={'types1': namespace_url})\n",
    "getResponse_Item_Name.text = taskflowName\n",
    "\n",
    "# Create the \"/aetgt:getResponse/types1:Item/types1:MimeType\" element\n",
    "namespace_url = 'http://schemas.active-endpoints.com/appmodules/repository/2010/10/avrepository.xsd'\n",
    "namespace = \"{%s}\" % namespace_url\n",
    "getResponse_Item_MimeType = etree.SubElement(getResponse_Item, namespace + \"MimeType\", nsmap={'types1': namespace_url})\n",
    "getResponse_Item_MimeType.text = \"application/xml+taskflow\"\n",
    "\n",
    "# Create the \"/aetgt:getResponse/types1:Item/types1:Description\" element\n",
    "namespace_url = 'http://schemas.active-endpoints.com/appmodules/repository/2010/10/avrepository.xsd'\n",
    "namespace = \"{%s}\" % namespace_url\n",
    "getResponse_Item_Description = etree.SubElement(getResponse_Item, namespace + \"Description\", nsmap={'types1': namespace_url})\n",
    "\n",
    "# Create the \"/aetgt:getResponse/types1:Item/types1:AppliesTo\" element\n",
    "namespace_url = 'http://schemas.active-endpoints.com/appmodules/repository/2010/10/avrepository.xsd'\n",
    "namespace = \"{%s}\" % namespace_url\n",
    "getResponse_Item_AppliesTo = etree.SubElement(getResponse_Item, namespace + \"AppliesTo\", nsmap={'types1': namespace_url})\n",
    "\n",
    "# Create the \"/aetgt:getResponse/types1:Item/types1:Tags\" element\n",
    "namespace_url = 'http://schemas.active-endpoints.com/appmodules/repository/2010/10/avrepository.xsd'\n",
    "namespace = \"{%s}\" % namespace_url\n",
    "getResponse_Item_Tags = etree.SubElement(getResponse_Item, namespace + \"Tags\", nsmap={'types1': namespace_url})\n",
    "\n",
    "# Create the \"/aetgt:getResponse/types1:Item/types1:VersionLabel\" element\n",
    "namespace_url = 'http://schemas.active-endpoints.com/appmodules/repository/2010/10/avrepository.xsd'\n",
    "namespace = \"{%s}\" % namespace_url\n",
    "getResponse_Item_VersionLabel = etree.SubElement(getResponse_Item, namespace + \"VersionLabel\", nsmap={'types1': namespace_url})\n",
    "getResponse_Item_VersionLabel.text = \"1.0\"\n",
    "\n",
    "# Create the \"/aetgt:getResponse/types1:Item/types1:State\" element\n",
    "namespace_url = 'http://schemas.active-endpoints.com/appmodules/repository/2010/10/avrepository.xsd'\n",
    "namespace = \"{%s}\" % namespace_url\n",
    "getResponse_Item_State = etree.SubElement(getResponse_Item, namespace + \"State\", nsmap={'types1': namespace_url})\n",
    "getResponse_Item_State.text = \"CURRENT\"\n",
    "\n",
    "# Create the \"/aetgt:getResponse/types1:Item/types1:ProcessGroup\" element\n",
    "namespace_url = 'http://schemas.active-endpoints.com/appmodules/repository/2010/10/avrepository.xsd'\n",
    "namespace = \"{%s}\" % namespace_url\n",
    "getResponse_Item_ProcessGroup = etree.SubElement(getResponse_Item, namespace + \"ProcessGroup\", nsmap={'types1': namespace_url})\n",
    "\n",
    "# Create the \"/aetgt:getResponse/types1:Item/types1:CreatedBy\" element\n",
    "namespace_url = 'http://schemas.active-endpoints.com/appmodules/repository/2010/10/avrepository.xsd'\n",
    "namespace = \"{%s}\" % namespace_url\n",
    "getResponse_Item_CreatedBy = etree.SubElement(getResponse_Item, namespace + \"CreatedBy\", nsmap={'types1': namespace_url})\n",
    "getResponse_Item_CreatedBy.text = \"jbowring_APJS_tspod_SO\"\n",
    "\n",
    "# Create the \"/aetgt:getResponse/types1:Item/types1:CreationDate\" element\n",
    "namespace_url = 'http://schemas.active-endpoints.com/appmodules/repository/2010/10/avrepository.xsd'\n",
    "namespace = \"{%s}\" % namespace_url\n",
    "getResponse_Item_CreationDate = etree.SubElement(getResponse_Item, namespace + \"CreationDate\", nsmap={'types1': namespace_url})\n",
    "getResponse_Item_CreationDate.text = \"2025-02-07T05:28:41Z\"\n",
    "\n",
    "# Create the \"/aetgt:getResponse/types1:Item/types1:ModifiedBy\" element\n",
    "namespace_url = 'http://schemas.active-endpoints.com/appmodules/repository/2010/10/avrepository.xsd'\n",
    "namespace = \"{%s}\" % namespace_url\n",
    "getResponse_Item_ModifiedBy = etree.SubElement(getResponse_Item, namespace + \"ModifiedBy\", nsmap={'types1': namespace_url})\n",
    "\n",
    "# Create the \"/aetgt:getResponse/types1:Item/types1:PublicationStatus\" element\n",
    "namespace_url = 'http://schemas.active-endpoints.com/appmodules/repository/2010/10/avrepository.xsd'\n",
    "namespace = \"{%s}\" % namespace_url\n",
    "getResponse_Item_PublicationStatus = etree.SubElement(getResponse_Item, namespace + \"PublicationStatus\", nsmap={'types1': namespace_url})\n",
    "getResponse_Item_PublicationStatus.text = \"unpublished\"\n",
    "\n",
    "# Create the \"/aetgt:getResponse/types1:Item/types1:Entry\" element\n",
    "namespace_url = 'http://schemas.active-endpoints.com/appmodules/repository/2010/10/avrepository.xsd'\n",
    "namespace = \"{%s}\" % namespace_url\n",
    "getResponse_Item_Entry = etree.SubElement(getResponse_Item, namespace + \"Entry\", nsmap={'types1': namespace_url})\n"
   ]
  },
  {
   "cell_type": "markdown",
   "id": "965a5b7c",
   "metadata": {},
   "source": [
    "## /aetgt:getResponse/types1:Item/types1:Entry"
   ]
  },
  {
   "cell_type": "code",
   "execution_count": 9,
   "id": "972e9513",
   "metadata": {},
   "outputs": [],
   "source": [
    "# Define the namespace map\n",
    "namespaces = {\n",
    "    \"tfm\": \"http://schemas.active-endpoints.com/appmodules/screenflow/2021/04/taskflowModel.xsd\",\n",
    "    \"list\": \"urn:activevos:spi:list:functions\"\n",
    "}\n",
    "\n",
    "# Create the \"/aetgt:getResponse/types1:Item/types1:Entry/taskflow\" element\n",
    "getResponse_Item_Entry_taskflow = etree.SubElement(getResponse_Item_Entry, \"taskflow\", attrib={ \n",
    "    \"xmlns\": \"http://schemas.active-endpoints.com/appmodules/screenflow/2010/10/avosScreenflow.xsd\",\n",
    "    \"displayName\": taskflowName,\n",
    "    \"overrideAPIName\": \"false\"\n",
    "    },\n",
    "    nsmap=namespaces)"
   ]
  },
  {
   "cell_type": "markdown",
   "id": "91f4938b",
   "metadata": {},
   "source": [
    "## /aetgt:getResponse/types1:Item/types1:Entry/taskflow"
   ]
  },
  {
   "cell_type": "code",
   "execution_count": 10,
   "id": "c57053a0",
   "metadata": {},
   "outputs": [],
   "source": [
    "# Create the \"/aetgt:getResponse/types1:Item/types1:Entry/taskflow/parameterSet\" element\n",
    "getResponse_Item_Entry_taskflow_parameterSet = etree.SubElement(getResponse_Item_Entry_taskflow, \"parameterSet\", attrib={ \n",
    "    \"xmlns\": \"http://schemas.active-endpoints.com/appmodules/screenflow/2021/04/taskflowModel.xsd\"\n",
    "    })\n",
    "\n",
    "# Create the \"/aetgt:getResponse/types1:Item/types1:Entry/taskflow/appliesTo\" element\n",
    "getResponse_Item_Entry_taskflow_appliesTo = etree.SubElement(getResponse_Item_Entry_taskflow, \"appliesTo\")\n",
    "\n",
    "# Create the \"/aetgt:getResponse/types1:Item/types1:Entry/taskflow/description\" element\n",
    "getResponse_Item_Entry_taskflow_description = etree.SubElement(getResponse_Item_Entry_taskflow, \"description\")\n",
    "\n",
    "# Create the \"/aetgt:getResponse/types1:Item/types1:Entry/taskflow/tags\" element\n",
    "getResponse_Item_Entry_taskflow_tags = etree.SubElement(getResponse_Item_Entry_taskflow, \"tags\")\n",
    "\n",
    "# Create the \"/aetgt:getResponse/types1:Item/types1:Entry/taskflow/generator\" element\n",
    "getResponse_Item_Entry_taskflow_generator = etree.SubElement(getResponse_Item_Entry_taskflow, \"generator\")\n",
    "getResponse_Item_Entry_taskflow_generator.text = \"Informatica Process Designer 11\"\n",
    "\n",
    "# Create the \"/aetgt:getResponse/types1:Item/types1:Entry/taskflow/notes\" element\n",
    "getResponse_Item_Entry_taskflow_notes = etree.SubElement(getResponse_Item_Entry_taskflow, \"notes\")\n",
    "\n",
    "# Create the \"/aetgt:getResponse/types1:Item/types1:Entry/taskflow/deployment\" element\n",
    "getResponse_Item_Entry_taskflow_deployment = etree.SubElement(getResponse_Item_Entry_taskflow, \"deployment\", attrib={\n",
    "    \"skipIfRunning\": \"false\", \n",
    "    \"suspendOnFault\": \"false\",\n",
    "    \"tracingLevel\": \"verbose\"\n",
    "})"
   ]
  },
  {
   "cell_type": "markdown",
   "id": "93fb49b7",
   "metadata": {},
   "source": [
    "## /aetgt:getResponse/types1:Item/types1:Entry/taskflow/deployment"
   ]
  },
  {
   "cell_type": "code",
   "execution_count": 11,
   "id": "760e2a53",
   "metadata": {},
   "outputs": [],
   "source": [
    "# Create the \"/aetgt:getResponse/types1:Item/types1:Entry/taskflow/deployment/rest\" element\n",
    "getResponse_Item_Entry_taskflow_deployment_rest = etree.SubElement(getResponse_Item_Entry_taskflow_deployment, \"rest\")"
   ]
  },
  {
   "cell_type": "markdown",
   "id": "f93db91f",
   "metadata": {},
   "source": [
    "## /aetgt:getResponse/types1:Item/types1:Entry/taskflow"
   ]
  },
  {
   "cell_type": "code",
   "execution_count": 12,
   "id": "d11cee1f",
   "metadata": {},
   "outputs": [],
   "source": [
    "# Create the \"/aetgt:getResponse/types1:Item/types1:Entry/taskflow/extData\" element\n",
    "getResponse_Item_Entry_taskflow_extData = etree.SubElement(getResponse_Item_Entry_taskflow, \"extData\")"
   ]
  },
  {
   "cell_type": "markdown",
   "id": "04879c6a",
   "metadata": {},
   "source": [
    "## /aetgt:getResponse/types1:Item/types1:Entry/taskflow/extData"
   ]
  },
  {
   "cell_type": "code",
   "execution_count": 13,
   "id": "2d0266fb",
   "metadata": {},
   "outputs": [],
   "source": [
    "# Create the \"/aetgt:getResponse/types1:Item/types1:Entry/taskflow/extData/nvpair\" element\n",
    "getResponse_Item_Entry_taskflow_extData_nvpair1 = etree.SubElement(getResponse_Item_Entry_taskflow_extData, \"nvpair\", attrib={\n",
    "    \"name\": \"treatEmptyStringAsNotNull\"\n",
    "})\n",
    "getResponse_Item_Entry_taskflow_extData_nvpair1.text = \"false\"\n",
    "\n",
    "# Create the \"/aetgt:getResponse/types1:Item/types1:Entry/taskflow/extData/nvpair\" element\n",
    "getResponse_Item_Entry_taskflow_extData_nvpair2 = etree.SubElement(getResponse_Item_Entry_taskflow_extData, \"nvpair\", attrib={\n",
    "    \"name\": \"treatEmptyObjectListAsArray\"\n",
    "})\n",
    "getResponse_Item_Entry_taskflow_extData_nvpair2.text = \"false\""
   ]
  },
  {
   "cell_type": "markdown",
   "id": "7d92796a",
   "metadata": {},
   "source": [
    "## /aetgt:getResponse/types1:Item/types1:Entry/taskflow"
   ]
  },
  {
   "cell_type": "code",
   "execution_count": 14,
   "id": "f9234c50",
   "metadata": {},
   "outputs": [],
   "source": [
    "# Create the \"/aetgt:getResponse/types1:Item/types1:Entry/taskflow/flow\" element\n",
    "getResponse_Item_Entry_taskflow_flow = etree.SubElement(getResponse_Item_Entry_taskflow, \"flow\", attrib={\n",
    "    \"id\": \"a\"\n",
    "})"
   ]
  },
  {
   "cell_type": "markdown",
   "id": "b86a9276",
   "metadata": {},
   "source": [
    "## /aetgt:getResponse/types1:Item/types1:Entry/taskflow/flow"
   ]
  },
  {
   "cell_type": "code",
   "execution_count": 15,
   "id": "ef8ea875",
   "metadata": {},
   "outputs": [],
   "source": [
    "# Create the \"/aetgt:getResponse/types1:Item/types1:Entry/taskflow/flow/start\" element\n",
    "getResponse_Item_Entry_taskflow_flow_start = etree.SubElement(getResponse_Item_Entry_taskflow_flow, \"start\", attrib={\n",
    "    \"id\": \"b\"\n",
    "})"
   ]
  },
  {
   "cell_type": "markdown",
   "id": "10ed6cb5",
   "metadata": {},
   "source": [
    "## /aetgt:getResponse/types1:Item/types1:Entry/taskflow/flow/start"
   ]
  },
  {
   "cell_type": "code",
   "execution_count": 16,
   "id": "6eab05b2",
   "metadata": {},
   "outputs": [],
   "source": [
    "# Create the \"/aetgt:getResponse/types1:Item/types1:Entry/taskflow/flow/start/link\" element\n",
    "getResponse_Item_Entry_taskflow_flow_end = etree.SubElement(getResponse_Item_Entry_taskflow_flow_start, \"link\", attrib={\n",
    "    \"id\": \"link1\",\n",
    "    \"targetId\": \"c\"\n",
    "})"
   ]
  },
  {
   "cell_type": "markdown",
   "id": "0462b107",
   "metadata": {},
   "source": [
    "## /aetgt:getResponse/types1:Item/types1:Entry/taskflow/flow"
   ]
  },
  {
   "cell_type": "code",
   "execution_count": 17,
   "id": "45ffe0e5",
   "metadata": {},
   "outputs": [],
   "source": [
    "# Create the \"/aetgt:getResponse/types1:Item/types1:Entry/taskflow/flow/end\" element\n",
    "getResponse_Item_Entry_taskflow_flow_end = etree.SubElement(getResponse_Item_Entry_taskflow_flow, \"end\", attrib={\n",
    "    \"id\": \"c\"\n",
    "})"
   ]
  },
  {
   "cell_type": "markdown",
   "id": "298fb604",
   "metadata": {},
   "source": [
    "## /aetgt:getResponse/types1:Item"
   ]
  },
  {
   "cell_type": "code",
   "execution_count": 18,
   "id": "0af1491d",
   "metadata": {},
   "outputs": [],
   "source": [
    "# Create the \"/aetgt:getResponse/types1:Item/types1:GUID\" element\n",
    "namespace_url = 'http://schemas.active-endpoints.com/appmodules/repository/2010/10/avrepository.xsd'\n",
    "namespace = \"{%s}\" % namespace_url\n",
    "getResponse_Item_GUID = etree.SubElement(getResponse_Item, namespace + \"GUID\", nsmap={'types1': namespace_url})\n",
    "getResponse_Item_GUID.text = taskflowID\n",
    "\n",
    "# Create the \"/aetgt:getResponse/types1:Item/types1:DisplayName\" element\n",
    "namespace_url = 'http://schemas.active-endpoints.com/appmodules/repository/2010/10/avrepository.xsd'\n",
    "namespace = \"{%s}\" % namespace_url\n",
    "getResponse_Item_DisplayName = etree.SubElement(getResponse_Item, namespace + \"DisplayName\", nsmap={'types1': namespace_url})\n",
    "getResponse_Item_DisplayName.text = taskflowName"
   ]
  },
  {
   "cell_type": "markdown",
   "id": "fde98605",
   "metadata": {},
   "source": [
    "## /aetgt:getResponse"
   ]
  },
  {
   "cell_type": "code",
   "execution_count": 19,
   "id": "f151c526",
   "metadata": {},
   "outputs": [],
   "source": [
    "# Create the \"/aetgt:getResponse/types1:CurrentServerDateTime\" element\n",
    "namespace_url = 'http://schemas.active-endpoints.com/appmodules/repository/2010/10/avrepository.xsd'\n",
    "namespace = \"{%s}\" % namespace_url\n",
    "getResponse_CurrentServerDateTime = etree.SubElement(root, namespace + \"CurrentServerDateTime\", nsmap={'types1': namespace_url})\n",
    "getResponse_CurrentServerDateTime.text = \"2025-02-07T05:29:29.149Z\""
   ]
  },
  {
   "cell_type": "markdown",
   "id": "6bd5bab1",
   "metadata": {},
   "source": [
    "## Save the XML file"
   ]
  },
  {
   "cell_type": "code",
   "execution_count": 20,
   "id": "ab17da0b",
   "metadata": {},
   "outputs": [],
   "source": [
    "# Create an ElementTree object from the root element\n",
    "tree = etree.ElementTree(root)\n",
    "\n",
    "# Write the XML to a file with pretty print\n",
    "with open(f\"out/{ taskflowName }.TASKFLOW.xml\", \"wb\") as f:\n",
    "    tree.write(f, pretty_print=True, xml_declaration=False, encoding=\"UTF-8\")"
   ]
  }
 ],
 "metadata": {
  "kernelspec": {
   "display_name": "base",
   "language": "python",
   "name": "python3"
  },
  "language_info": {
   "codemirror_mode": {
    "name": "ipython",
    "version": 3
   },
   "file_extension": ".py",
   "mimetype": "text/x-python",
   "name": "python",
   "nbconvert_exporter": "python",
   "pygments_lexer": "ipython3",
   "version": "3.9.13"
  }
 },
 "nbformat": 4,
 "nbformat_minor": 5
}
