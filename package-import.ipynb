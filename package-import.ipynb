{
 "cells": [
  {
   "cell_type": "code",
   "execution_count": 68,
   "id": "51bcf3db",
   "metadata": {},
   "outputs": [],
   "source": [
    "from pathlib import Path\n",
    "import shutil\n",
    "import uuid\n",
    "import json\n",
    "import hashlib"
   ]
  },
  {
   "cell_type": "code",
   "execution_count": 69,
   "id": "fa03e557",
   "metadata": {},
   "outputs": [],
   "source": [
    "# Generate the root dir ID\n",
    "#TODO uncomment the below line after testing is finished\n",
    "#rootDir = uuid.uuid4()\n",
    "rootDir = 'testing'\n",
    "\n",
    "# Get the taskflow ID and Name\n",
    "taskflowID = '7db37a912d774b58b6412c3d8b2bd782'\n",
    "taskflowName = 'tf_Generated_Taskflow'\n"
   ]
  },
  {
   "cell_type": "code",
   "execution_count": 70,
   "id": "f943d2fd",
   "metadata": {},
   "outputs": [],
   "source": [
    "# Create the workspace directories\n",
    "\n",
    "treePath = Path(f'tmp/{ rootDir }/Explore/Default')\n",
    "treePath.mkdir(parents=True, exist_ok=True)"
   ]
  },
  {
   "cell_type": "code",
   "execution_count": 71,
   "id": "0cfcddea",
   "metadata": {},
   "outputs": [],
   "source": [
    "# Copy in the generated taskflow XML file\n",
    "#TODO change to actual generated taskflow file\n",
    "content = '''<aetgt:getResponse xmlns:aetgt=\"http://schemas.active-endpoints.com/appmodules/repository/2010/10/avrepository.xsd\" xmlns:types1=\"http://schemas.active-endpoints.com/appmodules/repository/2010/10/avrepository.xsd\">\n",
    "  <types1:Item>\n",
    "    <types1:EntryId>DEPOiVhC2g0aaaa-gt-58577-2025-02-07T05:28:41.474Z::tf.xml</types1:EntryId>\n",
    "    <types1:Name>tf_Generated_Taskflow</types1:Name>\n",
    "    <types1:MimeType>application/xml+taskflow</types1:MimeType>\n",
    "    <types1:Description/>\n",
    "    <types1:AppliesTo/>\n",
    "    <types1:Tags/>\n",
    "    <types1:VersionLabel>1.0</types1:VersionLabel>\n",
    "    <types1:State>CURRENT</types1:State>\n",
    "    <types1:ProcessGroup/>\n",
    "    <types1:CreatedBy>jbowring_APJS_tspod_SO</types1:CreatedBy>\n",
    "    <types1:CreationDate>2025-02-07T05:28:41Z</types1:CreationDate>\n",
    "    <types1:ModifiedBy/>\n",
    "    <types1:PublicationStatus>unpublished</types1:PublicationStatus>\n",
    "    <types1:Entry>\n",
    "      <taskflow xmlns:tfm=\"http://schemas.active-endpoints.com/appmodules/screenflow/2021/04/taskflowModel.xsd\" xmlns:list=\"urn:activevos:spi:list:functions\" xmlns=\"http://schemas.active-endpoints.com/appmodules/screenflow/2010/10/avosScreenflow.xsd\" displayName=\"tf_Generated_Taskflow\" overrideAPIName=\"false\">\n",
    "        <parameterSet xmlns=\"http://schemas.active-endpoints.com/appmodules/screenflow/2021/04/taskflowModel.xsd\"/>\n",
    "        <appliesTo/>\n",
    "        <description/>\n",
    "        <tags/>\n",
    "        <generator>Informatica Process Designer 11</generator>\n",
    "        <notes/>\n",
    "        <deployment skipIfRunning=\"false\" suspendOnFault=\"false\" tracingLevel=\"verbose\">\n",
    "          <rest/>\n",
    "        </deployment>\n",
    "        <extData>\n",
    "          <nvpair name=\"treatEmptyStringAsNotNull\">false</nvpair>\n",
    "          <nvpair name=\"treatEmptyObjectListAsArray\">false</nvpair>\n",
    "        </extData>\n",
    "        <flow id=\"a\">\n",
    "          <start id=\"b\">\n",
    "            <link id=\"link1\" targetId=\"c\"/>\n",
    "          </start>\n",
    "          <end id=\"c\"/>\n",
    "        </flow>\n",
    "      </taskflow>\n",
    "    </types1:Entry>\n",
    "    <types1:GUID>7db37a912d774b58b6412c3d8b2bd782</types1:GUID>\n",
    "    <types1:DisplayName>tf_Generated_Taskflow</types1:DisplayName>\n",
    "  </types1:Item>\n",
    "  <types1:CurrentServerDateTime>2025-02-07T05:29:29.149Z</types1:CurrentServerDateTime>\n",
    "</aetgt:getResponse>\n",
    "\n",
    "'''\n",
    "\n",
    "with open(f'tmp/{ rootDir }/Explore/Default/{ taskflowName }.TASKFLOW.xml', 'w', encoding='utf-8') as file:\n",
    "    file.write(content)"
   ]
  },
  {
   "cell_type": "code",
   "execution_count": 72,
   "id": "892e59a6",
   "metadata": {},
   "outputs": [
    {
     "data": {
      "text/plain": [
       "WindowsPath('tmp/testing/Explore/Default.Project.json')"
      ]
     },
     "execution_count": 72,
     "metadata": {},
     "output_type": "execute_result"
    }
   ],
   "source": [
    "# Copy in the Default.Project.json template file\n",
    "srcPath = Path('templates/Default.Project.json')\n",
    "tgtPath = Path(f'tmp/{ rootDir }/Explore/Default.Project.json')\n",
    "shutil.copy(srcPath, tgtPath)\n",
    "\n"
   ]
  },
  {
   "cell_type": "code",
   "execution_count": 73,
   "id": "f802c82d",
   "metadata": {},
   "outputs": [],
   "source": [
    "# Generate the ContentsofExportPackage\n",
    "content = f'''objectPath,objectName,objectType,id\n",
    "/Explore,Default,Project,92TQndHw9hvjJrQafpLX2R\n",
    "/Explore/Default,{ taskflowName },TASKFLOW,{ taskflowID }'''\n",
    "\n",
    "with open(f'tmp/{ rootDir }/ContentsofExportPackage_{ taskflowName }.csv', 'w', encoding='utf-8') as file:\n",
    "    file.write(content)\n"
   ]
  },
  {
   "cell_type": "code",
   "execution_count": 74,
   "id": "f91d4669",
   "metadata": {},
   "outputs": [],
   "source": [
    "# Generate the exportMetadata.v2.json file\n",
    "with open('templates/exportMetadata.v2.json', 'r', encoding='utf-8') as file:\n",
    "    exportMetadata = json.load(file)\n",
    "\n",
    "# Update the taskflow names and ID\n",
    "exportMetadata['name'] = taskflowName\n",
    "exportedObjects = []\n",
    "for obj in exportMetadata['exportedObjects']:\n",
    "    if obj['objectType'] == 'TASKFLOW':\n",
    "        obj['objectGuid'] = taskflowID\n",
    "        obj['objectName'] = taskflowName\n",
    "\n",
    "    exportedObjects.append(obj)\n",
    "\n",
    "exportMetadata['exportedObjects'] = exportedObjects\n",
    "\n",
    "# Save the file\n",
    "with open(f'tmp/{ rootDir }/exportMetadata.v2.json', 'w', encoding='utf-8') as file:\n",
    "    json.dump(exportMetadata, file, ensure_ascii=False, indent=4)\n",
    "\n"
   ]
  },
  {
   "cell_type": "code",
   "execution_count": 75,
   "id": "aad25281",
   "metadata": {},
   "outputs": [],
   "source": [
    "# Generate the checksums\n",
    "with open(f'tmp/{ rootDir }/Explore/Default.Project.json', 'rb') as infile:\n",
    "        infileBytes = infile.read()\n",
    "        defaultProjectJsonHash = hashlib.sha256(infileBytes).hexdigest().upper()\n",
    "\n",
    "with open(f'tmp/{ rootDir }/exportMetadata.v2.json', 'rb') as infile:\n",
    "    infileBytes = infile.read()\n",
    "    exportMetadataHash = hashlib.sha256(infileBytes).hexdigest().upper()\n",
    "\n",
    "with open(f'tmp/{ rootDir }/Explore/Default/{ taskflowName }.TASKFLOW.xml', 'rb') as infile:\n",
    "    infileBytes = infile.read()\n",
    "    taskflowHash = hashlib.sha256(infileBytes).hexdigest().upper()\n",
    "\n",
    "content = f'''#\n",
    "#Fri Jul 04 02:03:23 UTC 2025\n",
    "Explore/Default/{ taskflowName }.TASKFLOW.xml={ taskflowHash }\n",
    "Explore/Default.Project.json={ defaultProjectJsonHash }\n",
    "exportMetadata.v2.json={ exportMetadataHash }\n",
    "'''\n",
    "\n",
    "# Save the checksums file\n",
    "with open(f'tmp/{ rootDir }/exportPackage.chksum', 'w', encoding='utf-8') as file:\n",
    "    file.write(content)"
   ]
  }
 ],
 "metadata": {
  "kernelspec": {
   "display_name": "base",
   "language": "python",
   "name": "python3"
  },
  "language_info": {
   "codemirror_mode": {
    "name": "ipython",
    "version": 3
   },
   "file_extension": ".py",
   "mimetype": "text/x-python",
   "name": "python",
   "nbconvert_exporter": "python",
   "pygments_lexer": "ipython3",
   "version": "3.9.13"
  }
 },
 "nbformat": 4,
 "nbformat_minor": 5
}
